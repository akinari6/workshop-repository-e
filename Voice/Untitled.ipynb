{
 "cells": [
  {
   "cell_type": "code",
   "execution_count": 1,
   "metadata": {},
   "outputs": [],
   "source": [
    "from pydub import AudioSegment\n",
    "import matplotlib.pyplot as plt\n",
    "%matplotlib inline"
   ]
  },
  {
   "cell_type": "code",
   "execution_count": 6,
   "metadata": {},
   "outputs": [],
   "source": [
    "a_sample = AudioSegment.from_file('data/a.mp3', format='mp3', frame_rate=10000)"
   ]
  },
  {
   "cell_type": "code",
   "execution_count": 7,
   "metadata": {},
   "outputs": [],
   "source": [
    "a_data = a_sample.get_array_of_samples()"
   ]
  },
  {
   "cell_type": "code",
   "execution_count": 8,
   "metadata": {},
   "outputs": [
    {
     "data": {
      "text/plain": [
       "[<matplotlib.lines.Line2D at 0x22cb5c10240>]"
      ]
     },
     "execution_count": 8,
     "metadata": {},
     "output_type": "execute_result"
    },
    {
     "data": {
      "image/png": "[encoded data removed]",
      "text/plain": [
       "<Figure size 432x288 with 1 Axes>"
      ]
     },
     "metadata": {
      "needs_background": "light"
     },
     "output_type": "display_data"
    }
   ],
   "source": [
    "plt.plot(a_data)"
   ]
  },
  {
   "cell_type": "code",
   "execution_count": 9,
   "metadata": {},
   "outputs": [],
   "source": [
    "plt.xlim=(130000, 180000)\n",
    "plt.show()"
   ]
  },
  {
   "cell_type": "code",
   "execution_count": 10,
   "metadata": {},
   "outputs": [
    {
     "ename": "NameError",
     "evalue": "name 'x' is not defined",
     "output_type": "error",
     "traceback": [
      "\u001b[1;31m---------------------------------------------------------------------------\u001b[0m",
      "\u001b[1;31mNameError\u001b[0m                                 Traceback (most recent call last)",
      "\u001b[1;32m<ipython-input-10-c046d7309540>\u001b[0m in \u001b[0;36m<module>\u001b[1;34m\u001b[0m\n\u001b[0;32m      1\u001b[0m \u001b[0mfig\u001b[0m\u001b[1;33m,\u001b[0m \u001b[0max\u001b[0m \u001b[1;33m=\u001b[0m \u001b[0mplt\u001b[0m\u001b[1;33m.\u001b[0m\u001b[0msubplots\u001b[0m\u001b[1;33m(\u001b[0m\u001b[0mfigsize\u001b[0m\u001b[1;33m=\u001b[0m\u001b[1;33m(\u001b[0m\u001b[1;36m5\u001b[0m\u001b[1;33m,\u001b[0m\u001b[1;36m5\u001b[0m\u001b[1;33m)\u001b[0m\u001b[1;33m)\u001b[0m\u001b[1;33m\u001b[0m\u001b[1;33m\u001b[0m\u001b[0m\n\u001b[1;32m----> 2\u001b[1;33m \u001b[0max\u001b[0m\u001b[1;33m.\u001b[0m\u001b[0mplot\u001b[0m\u001b[1;33m(\u001b[0m\u001b[0mx\u001b[0m\u001b[1;33m,\u001b[0m \u001b[0my\u001b[0m\u001b[1;33m)\u001b[0m\u001b[1;33m\u001b[0m\u001b[1;33m\u001b[0m\u001b[0m\n\u001b[0m",
      "\u001b[1;31mNameError\u001b[0m: name 'x' is not defined"
     ]
    },
    {
     "data": {
      "image/png": "[encoded data removed]",
      "text/plain": [
       "<Figure size 360x360 with 1 Axes>"
      ]
     },
     "metadata": {
      "needs_background": "light"
     },
     "output_type": "display_data"
    }
   ],
   "source": [
    "fig, ax = plt.subplots(figsize=(5,5))\n",
    "ax.plot(x, y)\n"
   ]
  },
  {
   "cell_type": "code",
   "execution_count": 37,
   "metadata": {},
   "outputs": [
    {
     "ename": "AttributeError",
     "evalue": "'array.array' object has no attribute 'shape'",
     "output_type": "error",
     "traceback": [
      "\u001b[1;31m---------------------------------------------------------------------------\u001b[0m",
      "\u001b[1;31mAttributeError\u001b[0m                            Traceback (most recent call last)",
      "\u001b[1;32m<ipython-input-37-21f551ed2198>\u001b[0m in \u001b[0;36m<module>\u001b[1;34m\u001b[0m\n\u001b[1;32m----> 1\u001b[1;33m \u001b[0ma_data\u001b[0m\u001b[1;33m.\u001b[0m\u001b[0mshape\u001b[0m\u001b[1;33m\u001b[0m\u001b[1;33m\u001b[0m\u001b[0m\n\u001b[0m",
      "\u001b[1;31mAttributeError\u001b[0m: 'array.array' object has no attribute 'shape'"
     ]
    }
   ],
   "source": [
    "a_data.shape"
   ]
  },
  {
   "cell_type": "code",
   "execution_count": 12,
   "metadata": {},
   "outputs": [
    {
     "data": {
      "text/plain": [
       "array([ 0,  0, -2, ..., -4, -1, -1], dtype=int16)"
      ]
     },
     "execution_count": 12,
     "metadata": {},
     "output_type": "execute_result"
    }
   ],
   "source": [
    "import numpy as np\n",
    "np.array(a_data)"
   ]
  },
  {
   "cell_type": "code",
   "execution_count": 13,
   "metadata": {},
   "outputs": [
    {
     "data": {
      "text/plain": [
       "270952"
      ]
     },
     "execution_count": 13,
     "metadata": {},
     "output_type": "execute_result"
    }
   ],
   "source": [
    "len(a_data)"
   ]
  },
  {
   "cell_type": "code",
   "execution_count": 15,
   "metadata": {},
   "outputs": [],
   "source": [
    "test_1 = a_data[160000:170000:10]"
   ]
  },
  {
   "cell_type": "code",
   "execution_count": 16,
   "metadata": {},
   "outputs": [
    {
     "data": {
      "text/plain": [
       "array('h', [-4027, -1680, 2420, 3766, 673, -788, -1285, 1004, 4774, 6570, 4618, 188, -4513, -6731, -3354, 3102, 10196, 14484, 11203, 3401, -4466, -9719, -9175, -4323, 2003, 7610, 8220, 6445, 4086, -123, -1807, -3204, -4494, -4833, -4752, -3565, -870, 451, 1148, 121, -3032, -5804, -7443, -8049, -7301, -6982, -7823, -9332, -11730, -11845, -10071, -8571, -4138, 9057, 20722, 28265, 25417, 8671, -10560, -26289, -27508, -14875, 2620, 20549, 26409, 20191, 9872, -2346, -7024, -6570, -4612, -1339, -545, -1629, -1335, 922, 3270, 4907, 3437, -700, -5251, -8427, -6636, -587, 6318, 12251, 12877, 6835, 222, -5989, -8879, -6160, -1930, 3737, 6720, 6049, 5748, 3090, 214, -1578, -4448, -4615, -3449, -1518, 2270, 3236, 3487, 1529, -3518, -5650, -7588, -6327, -3086, -1887, -2544, -7263, -12633, -15301, -15021, -11322, -5762, 6232, 19662, 27957, 26186, 10248, -9590, -26189, -29260, -18456, -1869, 16071, 24561, 21380, 12741, 1880, -3314, -3920, -2645, -439, -793, -2436, -3252, -1564, 2374, 6397, 7558, 4977, -24, -5066, -7328, -4199, 2138, 9249, 12984, 10131, 4214, -2329, -7526, -7755, -5559, -2086, 1623, 1817, 1796, 2446, 1821, 2148, -87, -4152, -5590, -6852, -4374, 173, 1984, 3333, 829, -3801, -6730, -8684, -7053, -2533, 95, -1285, -5652, -12202, -15642, -15177, -12675, -3646, 9213, 21207, 28362, 21181, 4986, -11694, -23484, -21008, -9848, 4242, 16678, 18591, 14388, 8618, 3272, 2420, 1608, 22, -1602, -4173, -5052, -3145, 1430, 6718, 10367, 9661, 5395, 341, -4161, -5201, -1615, 3872, 9593, 11696, 9465, 5398, -436, -4402, -5541, -4748, -3167, -1056, -169, 708, 2398, 3202, 2252, -2130, -7860, -10790, -10602, -5945, -89, 2690, 2751, -528, -5116, -7778, -8028, -6718, -4662, -3677, -5421, -8189, -10102, -10300, -8430, -7409, -2615, 8314, 19354, 26622, 22076, 7905, -7600, -20278, -20211, -10829, 3325, 15710, 19559, 15787, 9146, 2375, -1615, -3017, -3054, -2292, -2633, -2407, -1771, 1775, 3979, 6390, 4772, 450, -3414, -6277, -5021, 79, 5706, 9738, 10194, 7126, 2488, -2398, -4720, -4128, -2015, 137, 2777, 3819, 3569, 3526, 3324, 2811, -85, -5558, -8518, -9933, -7479, -1451, 2344, 3736, 2060, -2376, -6012, -7463, -6207, -4225, -3315, -4362, -6795, -9815, -10673, -10365, -9273, -1178, 12234, 24403, 28016, 19028, 1367, -15505, -25053, -20285, -7062, 8380, 17904, 17484, 10776, 2336, -2467, -3539, -2396, -725, -1080, -3008, -3770, -3030, 1160, 4885, 6281, 3677, -1910, -7516, -9371, -5979, 1625, 9225, 12386, 10241, 3875, -2400, -5440, -5668, -3063, 370, 2416, 3488, 4109, 4196, 3985, 3296, 2908, 547, -2814, -5950, -6747, -4630, -224, 3967, 5204, 3335, -718, -4538, -6625, -5769, -3458, -1564, -2086, -4892, -8946, -11694, -14027, -10084, 5956, 21604, 28987, 23709, 6088, -13311, -26672, -24564, -11573, 3767, 16147, 18214, 10627, 3351, -2090, -3948, -1852, -271, -507, -2365, -4097, -3018, 1711, 5782, 8634, 6325, -30, -5805, -8891, -6715, 921, 9023, 13862, 12842, 6618, -343, -5788, -7432, -4263, 453, 5801, 7579, 5650, 3252, 1621, 857, 1770, 1585, -633, -4414, -6617, -6102, -3079, 1859, 4076, 4152, 723, -2404, -4143, -3968, -2000, 3, -161, -821, -3202, -6195, -7764, -8703, -8214, -7210, 2306, 16991, 23659, 21496, 11863, -5804, -19439, -21882, -14132, -1041, 11100, 17523, 13239, 6162, -736, -6044, -6778, -5270, -3631, -2476, -2971, -2220, -388, 1693, 3955, 2641, -764, -4706, -7919, -7230, -2162, 4381, 10562, 12846, 9515, 3297, -3782, -8260, -8275, -5188, 735, 5353, 7126, 7003, 4380, 868, -1930, -4855, -6075, -6025, -5806, -3620, -1529, 775, 2833, 3255, 1611, -2159, -6054, -7924, -6977, -3535, 452, 2301, 1618, -1759, -5444, -7859, -7810, -5698, -3888, -3257, -4432, -5168, 1449, 9471, 14135, 14397, 6538, -4372, -13497, -14124, -7611, 984, 9603, 12696, 7979, 3471, -1267, -3075, -860, 1140, 2941, 1754, -1262, -3272, -3111, -951, 2799, 4792, 3974, 1466, -1611, -2831, -1006, 2134, 5655, 7009, 5020, 1668, -1399, -2240, -914, 1212, 2763, 2495, 822, -1242, -2846, -2137, -330, 1821, 3065, 2003, -762, -3396, -4477, -3257, -412, 2281, 3602, 2987, 770, -1702, -3187, -3396, -2077, -394, 1067, 1571, 1668, 1462, 946, 287, -1007, -2186, -3014, -3002, -2003, -643, 840, 1708, 1453, -34, -1764, -2850, -2959, -1958, -129, 1357, 2477, 2573, 1714, 450, -810, -1238, -787, -62, 798, 1736, 2332, 2850, 2774, 2022, 693, -333, -547, 31, 1472, 3332, 4772, 5204, 4181, 2155, -129, -1698, -2222, -1543, -20, 1796, 2756, 2737, 1723, 739, 87, -501, -677, -610, -157, 274, 377, 84, -892, -1757, -2192, -2029, -1326, -915, -355, -83, 209, 150, -171, -870, -1913, -2700, -2657, -1933, -655, 342, 825, 696, -173, -1182, -1793, -1722, -1225, -553, 70, 372, 255, 60, 53, 54, -102, -574, -1193, -1824, -2012, -1714, -1006, -662, -415, 261, 1587, 2990, 3071, 2547, 969, -855, -1766, -1743, -938, 326, 1275, 1516, 1264, 1084, 887, 727, 572, 208, -60, -734, -764, -239, 900, 1973, 2007, 1031, -1165, -3294, -4213, -3778, -2098, 163, 1623, 1944, 921, -779, -2504, -3770, -4080, -3997, -3334, -2306, -1068, 354, 1457, 2133, 1925, 874, -635, -2143, -2755, -2186, -697, 1225, 2328, 2830, 2122, 705, -710, -1783, -2022, -1617, -961, -134, 438, 604, 658, 495, 506, 595, 597, 568, 457, 572, 689, 819, 1038, 1076, 1044, 923, 599, 108, -181, -116, 423, 1101, 1508, 1379, 999, 587, 467, 818, 1478, 1985, 2068, 1516, 794, 435, 520, 1046, 1600, 1887, 1855, 1427, 936, 440, 264, 140, -8, -255, -624, -913, -701, -33, 713, 1140, 970, 460, -320, -772, -908, -731, -624, -247, 363, 674, 701, 288, -150, -463, -609, -516, -437, -524, -452, -336, -76, 310, 859, 1534, 1876, 1750, 1155, 411, -261, -549, -541, -233, 123, 352, 315, 6, -148, -305, -497, -1083, -1866, -2588, -2762, -2310, -1434, -657, -714, -1369, -2426, -3534, -3993, -3567, -2570, -1356, -285, 271, 233, -261, -929, -1178, -1141, -790, -343, 102, 466, 791, 1381, 1825, 1752, 1500, 1117, 1008, 1144, 1460, 2139, 2781, 2898, 2573, 1814, 867, 176, -202, -115, 320, 760, 1028, 844, 255, -363, -663, -448, 119, 652, 785, 407, -340, -1017, -1311, -970, -355, 393, 885, 855, 435, -162, -599, -700, -675, -512, -308, -110, -49, 87, 496, 659, 401, -418, -1399, -2159, -2544, -2243, -1266, -195, 431, 327, -365, -1170, -1819, -2056, -1852, -1396, -1096, -975, -1060, -1236, -1325, -1213, -787, -215, 181, 289, 180, -47, -105, -68, 317, 849, 1378, 1607, 1518, 1284, 935, 697, 588, 526, 476, 590, 765, 956, 1129, 1419, 1750, 1807, 1320, 526, -286, -729, -557, 175, 1168, 1829, 1832, 1177, 239])"
      ]
     },
     "execution_count": 16,
     "metadata": {},
     "output_type": "execute_result"
    }
   ],
   "source": [
    "test_1"
   ]
  },
  {
   "cell_type": "code",
   "execution_count": null,
   "metadata": {},
   "outputs": [],
   "source": []
  }
 ],
 "metadata": {
  "kernelspec": {
   "display_name": "Python 3",
   "language": "python",
   "name": "python3"
  },
  "language_info": {
   "codemirror_mode": {
    "name": "ipython",
    "version": 3
   },
   "file_extension": ".py",
   "mimetype": "text/x-python",
   "name": "python",
   "nbconvert_exporter": "python",
   "pygments_lexer": "ipython3",
   "version": "3.6.8"
  }
 },
 "nbformat": 4,
 "nbformat_minor": 2
}
