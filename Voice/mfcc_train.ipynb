{
 "cells": [
  {
   "cell_type": "code",
   "execution_count": 1,
   "metadata": {},
   "outputs": [],
   "source": [
    "import librosa\n",
    "#librosaライブラリのインポート（初めての人はインストール必要かもです）"
   ]
  },
  {
   "cell_type": "code",
   "execution_count": 4,
   "metadata": {},
   "outputs": [],
   "source": [
    "import numpy as np \n",
    "from sklearn.svm import SVC"
   ]
  },
  {
   "cell_type": "code",
   "execution_count": 5,
   "metadata": {},
   "outputs": [],
   "source": [
    "svc=SVC(kernel='linear')#モデル作成（本当はこっからkernel.gamma,cの調整が必要）"
   ]
  },
  {
   "cell_type": "code",
   "execution_count": 13,
   "metadata": {},
   "outputs": [],
   "source": [
    "data=[None]*30\n",
    "f=[None]*30\n",
    "#空のリストを作成"
   ]
  },
  {
   "cell_type": "code",
   "execution_count": 15,
   "metadata": {},
   "outputs": [],
   "source": [
    "for i in range(7):\n",
    "    data[i],f[i]=librosa.load(r\"C:\\Users\\ttaki\\workshop-repository-e\\Voice\\data\\kimura_out_a00{}.wav\".format(i+2),sr=44100)\n",
    "    #まず木村さんの2-9番目の音声データ読み込み\n",
    "    #データのパスを自分のパソコンで合わせてしまっているので、直してください。ごめんなさい"
   ]
  },
  {
   "cell_type": "code",
   "execution_count": 16,
   "metadata": {},
   "outputs": [],
   "source": [
    "for i in range(8,23):\n",
    "    data[i],f[i]=librosa.load(r\"C:\\Users\\ttaki\\workshop-repository-e\\Voice\\data\\kimura_out_a0{}.wav\".format(i+2),sr=44100)\n",
    "    #10-25番目の音声データ読み込み"
   ]
  },
  {
   "cell_type": "code",
   "execution_count": 17,
   "metadata": {},
   "outputs": [],
   "source": [
    "mfcc=[None]*30\n",
    "#mfccを入れるための空のリストを作成"
   ]
  },
  {
   "cell_type": "code",
   "execution_count": 22,
   "metadata": {},
   "outputs": [],
   "source": [
    "for i in range(20):\n",
    "    mfcc[i]=librosa.feature.mfcc(data[i])\n",
    "    \n",
    "    #20個のmfccを入れる。二つ下のセルでなぜ２０個か説明します"
   ]
  },
  {
   "cell_type": "code",
   "execution_count": 19,
   "metadata": {},
   "outputs": [
    {
     "data": {
      "text/plain": [
       "numpy.ndarray"
      ]
     },
     "execution_count": 19,
     "metadata": {},
     "output_type": "execute_result"
    }
   ],
   "source": [
    "type(data[0])\n",
    "#dataの一つ目の要素の型を確認（ndarray出ないといけないから)"
   ]
  },
  {
   "cell_type": "code",
   "execution_count": 24,
   "metadata": {},
   "outputs": [
    {
     "name": "stdout",
     "output_type": "stream",
     "text": [
      "0 <class 'numpy.ndarray'>\n",
      "1 <class 'numpy.ndarray'>\n",
      "2 <class 'numpy.ndarray'>\n",
      "3 <class 'numpy.ndarray'>\n",
      "4 <class 'numpy.ndarray'>\n",
      "5 <class 'numpy.ndarray'>\n",
      "6 <class 'numpy.ndarray'>\n",
      "7 <class 'numpy.ndarray'>\n",
      "8 <class 'numpy.ndarray'>\n",
      "9 <class 'numpy.ndarray'>\n",
      "10 <class 'numpy.ndarray'>\n",
      "11 <class 'numpy.ndarray'>\n",
      "12 <class 'numpy.ndarray'>\n",
      "13 <class 'numpy.ndarray'>\n",
      "14 <class 'numpy.ndarray'>\n",
      "15 <class 'numpy.ndarray'>\n",
      "16 <class 'numpy.ndarray'>\n",
      "17 <class 'numpy.ndarray'>\n",
      "18 <class 'numpy.ndarray'>\n",
      "19 <class 'numpy.ndarray'>\n",
      "20 <class 'numpy.ndarray'>\n",
      "21 <class 'numpy.ndarray'>\n",
      "22 <class 'numpy.ndarray'>\n",
      "23 <class 'NoneType'>\n",
      "24 <class 'NoneType'>\n",
      "25 <class 'NoneType'>\n",
      "26 <class 'NoneType'>\n",
      "27 <class 'NoneType'>\n",
      "28 <class 'NoneType'>\n",
      "29 <class 'NoneType'>\n"
     ]
    }
   ],
   "source": [
    "for i in range(30):\n",
    "    print(i,type(data[i]))\n",
    "    #結局、全部の型を確認。２３個は大丈夫なので、きりよく20こにしました"
   ]
  },
  {
   "cell_type": "code",
   "execution_count": 26,
   "metadata": {},
   "outputs": [],
   "source": [
    "data1=[None]*30\n",
    "f1=[None]*30"
   ]
  },
  {
   "cell_type": "code",
   "execution_count": 32,
   "metadata": {},
   "outputs": [],
   "source": [
    "for i in range(8):\n",
    "    data1[i],f1[i]=librosa.load(r\"C:\\Users\\ttaki\\workshop-repository-e\\Voice\\data\\tsujita_out_a00{}.wav\".format(i+2),sr=44100)"
   ]
  },
  {
   "cell_type": "code",
   "execution_count": 29,
   "metadata": {},
   "outputs": [],
   "source": [
    "for i in range(8,23):\n",
    "    data1[i],f1[i]=librosa.load(r\"C:\\Users\\ttaki\\workshop-repository-e\\Voice\\data\\tsujita_out_a0{}.wav\".format(i+2),sr=44100)"
   ]
  },
  {
   "cell_type": "code",
   "execution_count": 40,
   "metadata": {},
   "outputs": [],
   "source": [
    "mfcc2=[None]*30"
   ]
  },
  {
   "cell_type": "code",
   "execution_count": 33,
   "metadata": {},
   "outputs": [
    {
     "name": "stdout",
     "output_type": "stream",
     "text": [
      "0 <class 'numpy.ndarray'>\n",
      "1 <class 'numpy.ndarray'>\n",
      "2 <class 'numpy.ndarray'>\n",
      "3 <class 'numpy.ndarray'>\n",
      "4 <class 'numpy.ndarray'>\n",
      "5 <class 'numpy.ndarray'>\n",
      "6 <class 'numpy.ndarray'>\n",
      "7 <class 'numpy.ndarray'>\n",
      "8 <class 'numpy.ndarray'>\n",
      "9 <class 'numpy.ndarray'>\n",
      "10 <class 'numpy.ndarray'>\n",
      "11 <class 'numpy.ndarray'>\n",
      "12 <class 'numpy.ndarray'>\n",
      "13 <class 'numpy.ndarray'>\n",
      "14 <class 'numpy.ndarray'>\n",
      "15 <class 'numpy.ndarray'>\n",
      "16 <class 'numpy.ndarray'>\n",
      "17 <class 'numpy.ndarray'>\n",
      "18 <class 'numpy.ndarray'>\n",
      "19 <class 'numpy.ndarray'>\n",
      "20 <class 'numpy.ndarray'>\n",
      "21 <class 'numpy.ndarray'>\n",
      "22 <class 'numpy.ndarray'>\n",
      "23 <class 'NoneType'>\n",
      "24 <class 'NoneType'>\n",
      "25 <class 'NoneType'>\n",
      "26 <class 'NoneType'>\n",
      "27 <class 'NoneType'>\n",
      "28 <class 'NoneType'>\n",
      "29 <class 'NoneType'>\n"
     ]
    }
   ],
   "source": [
    "for i in range(30):\n",
    "    print(i,type(data1[i]))"
   ]
  },
  {
   "cell_type": "code",
   "execution_count": 41,
   "metadata": {},
   "outputs": [],
   "source": [
    "for i in range(20):\n",
    "    mfcc2[i]=librosa.feature.mfcc(data1[i])\n",
    "    #ここまで木村さんの音声の時と同様に、辻田さんの方でもやってます"
   ]
  },
  {
   "cell_type": "code",
   "execution_count": 42,
   "metadata": {},
   "outputs": [
    {
     "name": "stdout",
     "output_type": "stream",
     "text": [
      "(20, 87),(20, 87)\n",
      "(20, 87),(20, 87)\n",
      "(20, 87),(20, 87)\n",
      "(20, 87),(20, 87)\n",
      "(20, 87),(20, 87)\n",
      "(20, 87),(20, 87)\n",
      "(20, 87),(20, 87)\n",
      "(20, 87),(20, 87)\n",
      "(20, 87),(20, 87)\n",
      "(20, 87),(20, 87)\n",
      "(20, 87),(20, 87)\n",
      "(20, 87),(20, 87)\n",
      "(20, 87),(20, 87)\n",
      "(20, 87),(20, 87)\n",
      "(20, 87),(20, 87)\n",
      "(20, 87),(20, 87)\n",
      "(20, 87),(20, 87)\n",
      "(20, 87),(20, 87)\n",
      "(20, 87),(20, 87)\n",
      "(20, 87),(20, 87)\n"
     ]
    }
   ],
   "source": [
    "for i in range(20):\n",
    "    print('{},{}'.format(mfcc[i].shape,mfcc2[i].shape))\n",
    "    #念のため、両方のmfccの型を確認したところ違っている！？"
   ]
  },
  {
   "cell_type": "code",
   "execution_count": 36,
   "metadata": {},
   "outputs": [
    {
     "data": {
      "text/plain": [
       "(87,)"
      ]
     },
     "execution_count": 36,
     "metadata": {},
     "output_type": "execute_result"
    }
   ],
   "source": [
    "mfcc2[0].shape"
   ]
  },
  {
   "cell_type": "code",
   "execution_count": 37,
   "metadata": {},
   "outputs": [
    {
     "data": {
      "text/plain": [
       "array([[-323.34662  , -346.6159   , -391.06052  , ..., -413.98123  ,\n",
       "        -376.39987  , -330.25006  ],\n",
       "       [ 242.58786  ,  238.32588  ,  208.8315   , ...,  214.02267  ,\n",
       "         224.11438  ,  214.54184  ],\n",
       "       [ -24.376984 ,  -30.926386 ,  -43.755974 , ...,  -25.357601 ,\n",
       "         -30.259977 ,  -24.348946 ],\n",
       "       ...,\n",
       "       [   8.315975 ,    7.4845004,    6.3484774, ...,    1.0927347,\n",
       "           5.8724847,    7.1012993],\n",
       "       [  11.296804 ,    7.9167786,   10.875679 , ...,   25.625504 ,\n",
       "          12.6295185,    6.188593 ],\n",
       "       [   8.928599 ,    5.9985023,    8.571506 , ...,    5.3700123,\n",
       "           4.103514 ,    4.43698  ]], dtype=float32)"
      ]
     },
     "execution_count": 37,
     "metadata": {},
     "output_type": "execute_result"
    }
   ],
   "source": [
    "mfcc[0]"
   ]
  },
  {
   "cell_type": "code",
   "execution_count": 38,
   "metadata": {},
   "outputs": [
    {
     "data": {
      "text/plain": [
       "array([-392.9638 , -399.6815 , -403.7893 , -401.6198 , -398.95026,\n",
       "       -398.4868 , -403.72913, -409.97345, -408.81415, -402.7714 ,\n",
       "       -408.25745, -413.45505, -414.98752, -413.66705, -417.12842,\n",
       "       -420.7514 , -420.14145, -415.4362 , -408.95465, -406.82355,\n",
       "       -405.79196, -404.04514, -406.4402 , -407.1775 , -405.77612,\n",
       "       -406.24966, -407.0923 , -410.3606 , -424.13354, -428.81494,\n",
       "       -413.23   , -410.63977, -404.57675, -400.8973 , -401.2226 ,\n",
       "       -402.6251 , -404.00085, -403.43674, -402.41296, -395.72235,\n",
       "       -391.31204, -393.2124 , -391.12228, -386.11404, -390.65268,\n",
       "       -406.81354, -401.98175, -397.4612 , -396.33688, -398.5072 ,\n",
       "       -402.80096, -409.07587, -411.0985 , -411.11508, -407.18863,\n",
       "       -401.11978, -394.73053, -390.92682, -389.98648, -384.1607 ,\n",
       "       -387.12698, -391.32828, -396.7305 , -395.53802, -396.36783,\n",
       "       -397.9651 , -402.069  , -404.1597 , -405.12894, -412.7505 ,\n",
       "       -417.14087, -416.52576, -415.16342, -408.5341 , -408.39825,\n",
       "       -409.97864, -412.10504, -404.4662 , -397.55118, -396.6926 ,\n",
       "       -398.9988 , -400.5531 , -404.83832, -408.9246 , -416.96182,\n",
       "       -413.21616, -400.42722], dtype=float32)"
      ]
     },
     "execution_count": 38,
     "metadata": {},
     "output_type": "execute_result"
    }
   ],
   "source": [
    "mfcc2[0]\n",
    "#確認したけどやっぱり違う\n",
    "#その後、辻田さんの指摘で修正されました\n",
    "#ここから先の見通しは、二つのmfcc群を20個ずつxにいれ、それに対応する正解ｙ（木村さん：０、辻田さん：１）みたいな感じで作ってSVCで学習する感じだと思います"
   ]
  },
  {
   "cell_type": "code",
   "execution_count": null,
   "metadata": {},
   "outputs": [],
   "source": []
  }
 ],
 "metadata": {
  "kernelspec": {
   "display_name": "Python 3",
   "language": "python",
   "name": "python3"
  },
  "language_info": {
   "codemirror_mode": {
    "name": "ipython",
    "version": 3
   },
   "file_extension": ".py",
   "mimetype": "text/x-python",
   "name": "python",
   "nbconvert_exporter": "python",
   "pygments_lexer": "ipython3",
   "version": "3.6.5"
  }
 },
 "nbformat": 4,
 "nbformat_minor": 2
}
