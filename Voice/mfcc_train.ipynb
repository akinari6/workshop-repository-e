{
 "cells": [
  {
   "cell_type": "code",
   "execution_count": 1,
   "metadata": {},
   "outputs": [],
   "source": [
    "import librosa"
   ]
  },
  {
   "cell_type": "code",
   "execution_count": 4,
   "metadata": {},
   "outputs": [],
   "source": [
    "import numpy as np \n",
    "from sklearn.svm import SVC"
   ]
  },
  {
   "cell_type": "code",
   "execution_count": 5,
   "metadata": {},
   "outputs": [],
   "source": [
    "svc=SVC(kernel='linear')#モデル作成（本当はこっからkernel.gamma,cの調整が必要）"
   ]
  },
  {
   "cell_type": "code",
   "execution_count": 13,
   "metadata": {},
   "outputs": [],
   "source": [
    "data=[None]*30\n",
    "f=[None]*30"
   ]
  },
  {
   "cell_type": "code",
   "execution_count": 15,
   "metadata": {},
   "outputs": [],
   "source": [
    "for i in range(7):\n",
    "    data[i],f[i]=librosa.load(r\"C:\\Users\\ttaki\\workshop-repository-e\\Voice\\data\\kimura_out_a00{}.wav\".format(i+2),sr=44100)\n",
    "    #2-9番目の音声データ読み込み"
   ]
  },
  {
   "cell_type": "code",
   "execution_count": 16,
   "metadata": {},
   "outputs": [],
   "source": [
    "for i in range(8,23):\n",
    "    data[i],f[i]=librosa.load(r\"C:\\Users\\ttaki\\workshop-repository-e\\Voice\\data\\kimura_out_a0{}.wav\".format(i+2),sr=44100)\n",
    "    #10-25番目の音声データ読み込み"
   ]
  },
  {
   "cell_type": "code",
   "execution_count": 17,
   "metadata": {},
   "outputs": [],
   "source": [
    "mfcc=[None]*30"
   ]
  },
  {
   "cell_type": "code",
   "execution_count": 22,
   "metadata": {},
   "outputs": [],
   "source": [
    "for i in range(20):\n",
    "    mfcc[i]=librosa.feature.mfcc(data[i])\n",
    "    \n",
    "    #20個のmfcc"
   ]
  },
  {
   "cell_type": "code",
   "execution_count": 19,
   "metadata": {},
   "outputs": [
    {
     "data": {
      "text/plain": [
       "numpy.ndarray"
      ]
     },
     "execution_count": 19,
     "metadata": {},
     "output_type": "execute_result"
    }
   ],
   "source": [
    "type(data[0])"
   ]
  },
  {
   "cell_type": "code",
   "execution_count": 24,
   "metadata": {},
   "outputs": [
    {
     "name": "stdout",
     "output_type": "stream",
     "text": [
      "0 <class 'numpy.ndarray'>\n",
      "1 <class 'numpy.ndarray'>\n",
      "2 <class 'numpy.ndarray'>\n",
      "3 <class 'numpy.ndarray'>\n",
      "4 <class 'numpy.ndarray'>\n",
      "5 <class 'numpy.ndarray'>\n",
      "6 <class 'numpy.ndarray'>\n",
      "7 <class 'numpy.ndarray'>\n",
      "8 <class 'numpy.ndarray'>\n",
      "9 <class 'numpy.ndarray'>\n",
      "10 <class 'numpy.ndarray'>\n",
      "11 <class 'numpy.ndarray'>\n",
      "12 <class 'numpy.ndarray'>\n",
      "13 <class 'numpy.ndarray'>\n",
      "14 <class 'numpy.ndarray'>\n",
      "15 <class 'numpy.ndarray'>\n",
      "16 <class 'numpy.ndarray'>\n",
      "17 <class 'numpy.ndarray'>\n",
      "18 <class 'numpy.ndarray'>\n",
      "19 <class 'numpy.ndarray'>\n",
      "20 <class 'numpy.ndarray'>\n",
      "21 <class 'numpy.ndarray'>\n",
      "22 <class 'numpy.ndarray'>\n",
      "23 <class 'NoneType'>\n",
      "24 <class 'NoneType'>\n",
      "25 <class 'NoneType'>\n",
      "26 <class 'NoneType'>\n",
      "27 <class 'NoneType'>\n",
      "28 <class 'NoneType'>\n",
      "29 <class 'NoneType'>\n"
     ]
    }
   ],
   "source": [
    "for i in range(30):\n",
    "    print(i,type(data[i]))"
   ]
  },
  {
   "cell_type": "code",
   "execution_count": 26,
   "metadata": {},
   "outputs": [],
   "source": [
    "data1=[None]*30\n",
    "f1=[None]*30"
   ]
  },
  {
   "cell_type": "code",
   "execution_count": 32,
   "metadata": {},
   "outputs": [],
   "source": [
    "for i in range(8):\n",
    "    data1[i],f1[i]=librosa.load(r\"C:\\Users\\ttaki\\workshop-repository-e\\Voice\\data\\tsujita_out_a00{}.wav\".format(i+2),sr=44100)"
   ]
  },
  {
   "cell_type": "code",
   "execution_count": 29,
   "metadata": {},
   "outputs": [],
   "source": [
    "for i in range(8,23):\n",
    "    data1[i],f1[i]=librosa.load(r\"C:\\Users\\ttaki\\workshop-repository-e\\Voice\\data\\tsujita_out_a0{}.wav\".format(i+2),sr=44100)"
   ]
  },
  {
   "cell_type": "code",
   "execution_count": 30,
   "metadata": {},
   "outputs": [],
   "source": [
    "mfcc2=[None]*30"
   ]
  },
  {
   "cell_type": "code",
   "execution_count": 33,
   "metadata": {},
   "outputs": [
    {
     "name": "stdout",
     "output_type": "stream",
     "text": [
      "0 <class 'numpy.ndarray'>\n",
      "1 <class 'numpy.ndarray'>\n",
      "2 <class 'numpy.ndarray'>\n",
      "3 <class 'numpy.ndarray'>\n",
      "4 <class 'numpy.ndarray'>\n",
      "5 <class 'numpy.ndarray'>\n",
      "6 <class 'numpy.ndarray'>\n",
      "7 <class 'numpy.ndarray'>\n",
      "8 <class 'numpy.ndarray'>\n",
      "9 <class 'numpy.ndarray'>\n",
      "10 <class 'numpy.ndarray'>\n",
      "11 <class 'numpy.ndarray'>\n",
      "12 <class 'numpy.ndarray'>\n",
      "13 <class 'numpy.ndarray'>\n",
      "14 <class 'numpy.ndarray'>\n",
      "15 <class 'numpy.ndarray'>\n",
      "16 <class 'numpy.ndarray'>\n",
      "17 <class 'numpy.ndarray'>\n",
      "18 <class 'numpy.ndarray'>\n",
      "19 <class 'numpy.ndarray'>\n",
      "20 <class 'numpy.ndarray'>\n",
      "21 <class 'numpy.ndarray'>\n",
      "22 <class 'numpy.ndarray'>\n",
      "23 <class 'NoneType'>\n",
      "24 <class 'NoneType'>\n",
      "25 <class 'NoneType'>\n",
      "26 <class 'NoneType'>\n",
      "27 <class 'NoneType'>\n",
      "28 <class 'NoneType'>\n",
      "29 <class 'NoneType'>\n"
     ]
    }
   ],
   "source": [
    "for i in range(30):\n",
    "    print(i,type(data1[i]))"
   ]
  },
  {
   "cell_type": "code",
   "execution_count": 34,
   "metadata": {},
   "outputs": [],
   "source": [
    "for i in range(20):\n",
    "    mfcc2=librosa.feature.mfcc(data1[i])"
   ]
  },
  {
   "cell_type": "code",
   "execution_count": 35,
   "metadata": {},
   "outputs": [
    {
     "name": "stdout",
     "output_type": "stream",
     "text": [
      "(20, 87),(87,)\n",
      "(20, 87),(87,)\n",
      "(20, 87),(87,)\n",
      "(20, 87),(87,)\n",
      "(20, 87),(87,)\n",
      "(20, 87),(87,)\n",
      "(20, 87),(87,)\n",
      "(20, 87),(87,)\n",
      "(20, 87),(87,)\n",
      "(20, 87),(87,)\n",
      "(20, 87),(87,)\n",
      "(20, 87),(87,)\n",
      "(20, 87),(87,)\n",
      "(20, 87),(87,)\n",
      "(20, 87),(87,)\n",
      "(20, 87),(87,)\n",
      "(20, 87),(87,)\n",
      "(20, 87),(87,)\n",
      "(20, 87),(87,)\n",
      "(20, 87),(87,)\n"
     ]
    }
   ],
   "source": [
    "for i in range(20):\n",
    "    print('{},{}'.format(mfcc[i].shape,mfcc2[i].shape))"
   ]
  },
  {
   "cell_type": "code",
   "execution_count": 36,
   "metadata": {},
   "outputs": [
    {
     "data": {
      "text/plain": [
       "(87,)"
      ]
     },
     "execution_count": 36,
     "metadata": {},
     "output_type": "execute_result"
    }
   ],
   "source": [
    "mfcc2[0].shape"
   ]
  },
  {
   "cell_type": "code",
   "execution_count": null,
   "metadata": {},
   "outputs": [],
   "source": []
  }
 ],
 "metadata": {
  "kernelspec": {
   "display_name": "Python 3",
   "language": "python",
   "name": "python3"
  },
  "language_info": {
   "codemirror_mode": {
    "name": "ipython",
    "version": 3
   },
   "file_extension": ".py",
   "mimetype": "text/x-python",
   "name": "python",
   "nbconvert_exporter": "python",
   "pygments_lexer": "ipython3",
   "version": "3.6.5"
  }
 },
 "nbformat": 4,
 "nbformat_minor": 2
}
