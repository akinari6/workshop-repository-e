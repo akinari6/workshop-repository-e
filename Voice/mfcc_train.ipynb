{
 "cells": [
  {
   "cell_type": "code",
   "execution_count": 1,
   "metadata": {},
   "outputs": [],
   "source": [
    "import librosa\n",
    "#librosaライブラリのインポート（初めての人はインストール必要かもです）"
   ]
  },
  {
   "cell_type": "code",
   "execution_count": 2,
   "metadata": {},
   "outputs": [],
   "source": [
    "import numpy as np \n",
    "import pandas as pd\n",
    "import matplotlib.pyplot as plt\n",
    "%matplotlib inline\n",
    "from sklearn.svm import SVC"
   ]
  },
  {
   "cell_type": "code",
   "execution_count": 3,
   "metadata": {},
   "outputs": [],
   "source": [
    "svc=SVC(kernel='linear')#モデル作成（本当はこっからkernel.gamma,cの調整が必要）"
   ]
  },
  {
   "cell_type": "code",
   "execution_count": 4,
   "metadata": {},
   "outputs": [
    {
     "name": "stdout",
     "output_type": "stream",
     "text": [
      "<class 'numpy.ndarray'>\n"
     ]
    }
   ],
   "source": [
    "row_data_kimura=np.empty((0, 22050), float)\n",
    "row_data_tsujita=np.empty((0, 22050), float)\n",
    "#空のarrayを作成\n",
    "print(type(row_data_kimura))"
   ]
  },
  {
   "cell_type": "code",
   "execution_count": 8,
   "metadata": {},
   "outputs": [
    {
     "name": "stdout",
     "output_type": "stream",
     "text": [
      "<class 'numpy.ndarray'>\n",
      "(9, 22050)\n"
     ]
    },
    {
     "data": {
      "text/plain": [
       "array([[ 0.0505181 ,  0.06124164,  0.02998081, ...,  0.04540941,\n",
       "         0.07099586,  0.08282308],\n",
       "       [ 0.0505181 ,  0.06124164,  0.02998081, ...,  0.04540941,\n",
       "         0.07099586,  0.08282308],\n",
       "       [ 0.05033078,  0.06823435,  0.06155987, ...,  0.03048746,\n",
       "         0.04146661,  0.06406365],\n",
       "       ...,\n",
       "       [ 0.06170412,  0.0894892 ,  0.06680319, ...,  0.05038268,\n",
       "         0.05784999,  0.05136752],\n",
       "       [ 0.01510118, -0.00561017, -0.03052215, ..., -0.0349433 ,\n",
       "        -0.0310175 , -0.02873879],\n",
       "       [-0.01587843, -0.01633452,  0.00119146, ...,  0.05447901,\n",
       "         0.06039618,  0.07281134]])"
      ]
     },
     "execution_count": 8,
     "metadata": {},
     "output_type": "execute_result"
    }
   ],
   "source": [
    "for i in range(8):\n",
    "    k_data, f=librosa.load(\"data\\kimura_out_a00{}.wav\".format(i+2))\n",
    "    row_data_kimura = np.append(row_data_kimura, np.array([k_data]), axis = 0)\n",
    "    \n",
    "    #2-9番目の音声データ読み込み\n",
    "# print(row_data[1])\n",
    "# print(row_data[1].shape)\n",
    "print(type(row_data_kimura))\n",
    "print(row_data_kimura.shape)\n",
    "row_data_kimura\n",
    "# print(row_data)\n",
    "#np.array(row_data)"
   ]
  },
  {
   "cell_type": "code",
   "execution_count": null,
   "metadata": {},
   "outputs": [],
   "source": []
  },
  {
   "cell_type": "code",
   "execution_count": null,
   "metadata": {},
   "outputs": [],
   "source": [
    "#実行は1回だけ！\n",
    "for i in range(8,24):\n",
    "    k_data,f=librosa.load(\"data\\kimura_out_a0{}.wav\".format(i+2))\n",
    "    row_data_kimura = np.append(row_data_kimura, np.array([k_data]), axis = 0)\n",
    "    #10-25番目の音声データ読み込み\n",
    "print(type(f))\n",
    "print(row_data_kimura.shape)\n",
    "print(f)"
   ]
  },
  {
   "cell_type": "code",
   "execution_count": null,
   "metadata": {},
   "outputs": [],
   "source": [
    "mfccs_k_2=librosa.feature.mfcc(row_data_kimura[0])\n",
    "print(mfccs_k_2.shape)\n",
    "mfccs_k = mfccs_k_2[None,:,:]\n",
    "#mfccを入れるための空のarrayを作成(3次元に変換)\n",
    "print(type(mfccs_k))\n",
    "print(mfccs_k.shape)\n",
    "mfccs_k"
   ]
  },
  {
   "cell_type": "code",
   "execution_count": null,
   "metadata": {},
   "outputs": [],
   "source": []
  },
  {
   "cell_type": "code",
   "execution_count": null,
   "metadata": {},
   "outputs": [],
   "source": [
    "for i in range(23):\n",
    "    k_mfcc_2=librosa.feature.mfcc(row_data_kimura[i])\n",
    "    k_mfcc=k_mfcc_2[None,:,:]\n",
    "    #print(my_mfcc.shape)\n",
    "    mfccs_k = np.concatenate([mfccs_k, k_mfcc], axis=0)\n",
    "    print(mfccs_k.shape)\n",
    "    \n",
    "# #24個のmfccを入れる。\n",
    "# mfcc = librosa.feature.mfcc(data[0])\n",
    "# print(type(mfcc))\n",
    "# mfcc.shape"
   ]
  },
  {
   "cell_type": "code",
   "execution_count": null,
   "metadata": {},
   "outputs": [],
   "source": []
  },
  {
   "cell_type": "code",
   "execution_count": null,
   "metadata": {},
   "outputs": [],
   "source": []
  },
  {
   "cell_type": "code",
   "execution_count": null,
   "metadata": {},
   "outputs": [],
   "source": [
    "data1=[None]*30\n",
    "f1=[None]*30"
   ]
  },
  {
   "cell_type": "code",
   "execution_count": null,
   "metadata": {},
   "outputs": [],
   "source": [
    "for i in range(8):\n",
    "    data1[i],f1[i]=librosa.load(r\"C:\\Users\\ttaki\\workshop-repository-e\\Voice\\data\\tsujita_out_a00{}.wav\".format(i+2),sr=44100)"
   ]
  },
  {
   "cell_type": "code",
   "execution_count": null,
   "metadata": {},
   "outputs": [],
   "source": [
    "for i in range(8,23):\n",
    "    data1[i],f1[i]=librosa.load(r\"C:\\Users\\ttaki\\workshop-repository-e\\Voice\\data\\tsujita_out_a0{}.wav\".format(i+2),sr=44100)"
   ]
  },
  {
   "cell_type": "code",
   "execution_count": null,
   "metadata": {},
   "outputs": [],
   "source": [
    "mfcc2=[None]*30"
   ]
  },
  {
   "cell_type": "code",
   "execution_count": null,
   "metadata": {},
   "outputs": [],
   "source": [
    "for i in range(30):\n",
    "    print(i,type(data1[i]))"
   ]
  },
  {
   "cell_type": "code",
   "execution_count": null,
   "metadata": {},
   "outputs": [],
   "source": [
    "for i in range(20):\n",
    "    mfcc2[i]=librosa.feature.mfcc(data1[i])\n",
    "    #ここまで木村さんの音声の時と同様に、辻田さんの方でもやってます"
   ]
  },
  {
   "cell_type": "code",
   "execution_count": null,
   "metadata": {},
   "outputs": [],
   "source": [
    "for i in range(20):\n",
    "    print('{},{}'.format(mfcc[i].shape,mfcc2[i].shape))\n",
    "    #念のため、両方のmfccの型を確認したところ違っている！？"
   ]
  },
  {
   "cell_type": "code",
   "execution_count": null,
   "metadata": {},
   "outputs": [],
   "source": [
    "mfcc2[0].shape"
   ]
  },
  {
   "cell_type": "code",
   "execution_count": null,
   "metadata": {},
   "outputs": [],
   "source": [
    "mfcc[0]"
   ]
  },
  {
   "cell_type": "code",
   "execution_count": null,
   "metadata": {},
   "outputs": [],
   "source": [
    "mfcc2[0]\n",
    "#確認したけどやっぱり違う\n",
    "#その後、辻田さんの指摘で修正されました\n",
    "#ここから先の見通しは、二つのmfcc群を20個ずつxにいれ、それに対応する正解ｙ（木村さん：０、辻田さん：１）みたいな感じで作ってSVCで学習する感じだと思います"
   ]
  },
  {
   "cell_type": "code",
   "execution_count": null,
   "metadata": {},
   "outputs": [],
   "source": []
  }
 ],
 "metadata": {
  "kernelspec": {
   "display_name": "Python 3",
   "language": "python",
   "name": "python3"
  },
  "language_info": {
   "codemirror_mode": {
    "name": "ipython",
    "version": 3
   },
   "file_extension": ".py",
   "mimetype": "text/x-python",
   "name": "python",
   "nbconvert_exporter": "python",
   "pygments_lexer": "ipython3",
   "version": "3.6.8"
  }
 },
 "nbformat": 4,
 "nbformat_minor": 2
}
