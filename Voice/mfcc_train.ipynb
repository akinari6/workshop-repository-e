{
 "cells": [
  {
   "cell_type": "code",
   "execution_count": 1,
   "metadata": {},
   "outputs": [],
   "source": [
    "import librosa\n",
    "#librosaライブラリのインポート（初めての人はインストール必要かもです）"
   ]
  },
  {
   "cell_type": "code",
   "execution_count": 2,
   "metadata": {},
   "outputs": [],
   "source": [
    "import numpy as np \n",
    "import pandas as pd\n",
    "import matplotlib.pyplot as plt\n",
    "%matplotlib inline\n",
    "from sklearn.svm import SVC"
   ]
  },
  {
   "cell_type": "code",
   "execution_count": 3,
   "metadata": {},
   "outputs": [],
   "source": [
    "svc=SVC(kernel='linear')#モデル作成（本当はこっからkernel.gamma,cの調整が必要）"
   ]
  },
  {
   "cell_type": "code",
   "execution_count": 4,
   "metadata": {},
   "outputs": [
    {
     "name": "stdout",
     "output_type": "stream",
     "text": [
      "<class 'numpy.ndarray'>\n"
     ]
    }
   ],
   "source": [
    "row_data=np.empty((0, 22050), float)\n",
    "f=np.zeros(30)\n",
    "#空のarrayを作成\n",
    "print(type(row_data))"
   ]
  },
  {
   "cell_type": "code",
   "execution_count": 5,
   "metadata": {},
   "outputs": [
    {
     "name": "stdout",
     "output_type": "stream",
     "text": [
      "<class 'numpy.ndarray'>\n",
      "(8, 22050)\n"
     ]
    },
    {
     "data": {
      "text/plain": [
       "array([[ 0.0505181 ,  0.06124164,  0.02998081, ...,  0.04540941,\n",
       "         0.07099586,  0.08282308],\n",
       "       [ 0.05033078,  0.06823435,  0.06155987, ...,  0.03048746,\n",
       "         0.04146661,  0.06406365],\n",
       "       [ 0.05685863,  0.09267953,  0.08549885, ..., -0.00380863,\n",
       "        -0.00777775, -0.01320163],\n",
       "       ...,\n",
       "       [ 0.06170412,  0.0894892 ,  0.06680319, ...,  0.05038268,\n",
       "         0.05784999,  0.05136752],\n",
       "       [ 0.01510118, -0.00561017, -0.03052215, ..., -0.0349433 ,\n",
       "        -0.0310175 , -0.02873879],\n",
       "       [-0.01587843, -0.01633452,  0.00119146, ...,  0.05447901,\n",
       "         0.06039618,  0.07281134]])"
      ]
     },
     "execution_count": 5,
     "metadata": {},
     "output_type": "execute_result"
    }
   ],
   "source": [
    "for i in range(8):\n",
    "    my_data, my_f=librosa.load(\"data\\kimura_out_a00{}.wav\".format(i+2))\n",
    "    row_data = np.append(row_data, np.array([my_data]), axis = 0)\n",
    "    #まず木村さんの2-9番目の音声データ読み込み\n",
    "# print(row_data[1])\n",
    "# print(row_data[1].shape)\n",
    "print(type(row_data))\n",
    "print(row_data.shape)\n",
    "row_data\n",
    "# print(row_data)\n",
    "#np.array(row_data)"
   ]
  },
  {
   "cell_type": "code",
   "execution_count": 6,
   "metadata": {},
   "outputs": [
    {
     "name": "stdout",
     "output_type": "stream",
     "text": [
      "<class 'numpy.ndarray'>\n",
      "(24, 22050)\n"
     ]
    }
   ],
   "source": [
    "#実行は1回だけ！\n",
    "for i in range(8,24):\n",
    "    my_data,my_f=librosa.load(\"data\\kimura_out_a0{}.wav\".format(i+2))\n",
    "    row_data = np.append(row_data, np.array([my_data]), axis = 0)\n",
    "    #10-25番目の音声データ読み込み\n",
    "print(type(f))\n",
    "f\n",
    "print(row_data.shape)"
   ]
  },
  {
   "cell_type": "code",
   "execution_count": 11,
   "metadata": {},
   "outputs": [
    {
     "name": "stdout",
     "output_type": "stream",
     "text": [
      "<class 'numpy.ndarray'>\n",
      "(20, 44, 24)\n"
     ]
    },
    {
     "data": {
      "text/plain": [
       "array([[[9.16905739e-312, 9.16905063e-312, 5.22033732e-005, ...,\n",
       "         1.31578872e-005, 5.65722700e-004, 2.39654816e-002],\n",
       "        [4.53043461e+000, 3.39192266e+004, 1.70258906e+005, ...,\n",
       "         4.43971694e-001, 1.34021020e+000, 8.21517110e-001],\n",
       "        [3.07237291e+000, 7.88212300e+000, 1.95154205e+002, ...,\n",
       "         2.71341887e-005, 2.80564392e-007, 1.00545638e-009],\n",
       "        ...,\n",
       "        [1.55548838e-016, 2.16057801e-016, 1.25923861e-016, ...,\n",
       "         7.22317611e-016, 1.58594912e-015, 1.77723307e-015],\n",
       "        [9.62413436e-016, 1.71996752e-015, 1.32255490e-015, ...,\n",
       "         4.63857007e-010, 1.59364632e-009, 1.93866146e-012],\n",
       "        [2.51992342e-018, 1.42672210e-011, 9.27794641e-011, ...,\n",
       "         1.80409641e-013, 3.81212628e-011, 2.53467689e-009]],\n",
       "\n",
       "       [[8.64668155e-009, 8.98937903e-019, 4.69782985e-010, ...,\n",
       "         5.09864563e+005, 4.41812609e-006, 3.87688824e-010],\n",
       "        [1.40148743e-011, 7.46522422e-011, 1.39912504e-006, ...,\n",
       "         2.88361611e-010, 5.32356024e-008, 8.86727928e-001],\n",
       "        [1.59301661e-009, 4.64867697e-009, 6.18024796e-015, ...,\n",
       "         1.14329036e-018, 5.93265178e-017, 2.69343192e-011],\n",
       "        ...,\n",
       "        [5.40292534e-033, 3.66382648e-038, 8.25828144e-032, ...,\n",
       "         3.83497756e-013, 2.15388092e+002, 3.02672564e+005],\n",
       "        [2.84019785e-009, 3.20156443e-012, 3.13430173e-014, ...,\n",
       "         1.90801443e-007, 1.95711464e-007, 7.52848623e-009],\n",
       "        [1.15391231e-004, 1.91168743e+009, 2.86647166e-003, ...,\n",
       "         8.88971253e-011, 2.54356367e-010, 5.02780606e-007]],\n",
       "\n",
       "       [[2.45795952e-008, 1.32141715e-012, 2.77011214e-001, ...,\n",
       "         2.29333853e-022, 8.04375767e-013, 1.34402192e-019],\n",
       "        [1.34575644e-013, 1.12126036e-014, 2.94592473e-011, ...,\n",
       "         2.80801665e-011, 3.15254886e-014, 1.13722253e-014],\n",
       "        [3.99908730e-015, 1.97743872e-014, 1.72830486e-015, ...,\n",
       "         1.99169553e-002, 1.36764502e-008, 3.45884777e-011],\n",
       "        ...,\n",
       "        [3.39391977e-013, 9.72457477e-017, 7.62414975e-013, ...,\n",
       "         1.33526629e-008, 2.25060147e-006, 3.04494323e-006],\n",
       "        [2.44644115e-006, 1.13165719e-014, 3.23243520e-009, ...,\n",
       "         1.17648855e-001, 3.57046075e-007, 5.82598256e-016],\n",
       "        [6.85174313e-009, 7.27088276e-010, 2.96736750e-008, ...,\n",
       "         9.97693068e-012, 9.77999715e-002, 1.77771130e-006]],\n",
       "\n",
       "       ...,\n",
       "\n",
       "       [[1.19226111e-018, 3.91822869e-014, 1.52801056e-012, ...,\n",
       "         6.09319259e-009, 4.85214356e-008, 2.33469628e+000],\n",
       "        [3.62536257e+008, 2.96597475e+002, 3.29700322e-010, ...,\n",
       "         3.80685403e-014, 1.72639007e-012, 9.74415743e-009],\n",
       "        [1.68983724e-008, 1.27062708e-001, 2.04350125e+006, ...,\n",
       "         3.33866016e-013, 1.18834063e-014, 3.64819993e-019],\n",
       "        ...,\n",
       "        [1.88112084e-027, 1.70026817e-023, 2.00069575e-026, ...,\n",
       "         1.52358083e-032, 2.67960512e-036, 1.67579717e-035],\n",
       "        [2.39249436e-036, 5.72303807e-039, 3.77777284e-013, ...,\n",
       "         1.34178509e-015, 6.51051355e-017, 3.04483992e-019],\n",
       "        [6.53015572e-012, 6.57575136e-015, 1.30926887e-012, ...,\n",
       "         7.75014384e-010, 6.41493985e-006, 1.38970727e-011]],\n",
       "\n",
       "       [[6.89658217e-010, 5.76779073e-006, 1.31708207e-012, ...,\n",
       "         5.97992347e-011, 1.25236554e-009, 8.98332627e-010],\n",
       "        [3.33180772e-011, 7.03473277e-009, 1.73631698e-011, ...,\n",
       "         7.82346277e-002, 7.13447989e-014, 3.40929757e-012],\n",
       "        [1.88237315e-012, 8.62088016e-023, 6.03824477e-016, ...,\n",
       "         6.17098923e-013, 1.65191332e-010, 1.20699155e-006],\n",
       "        ...,\n",
       "        [1.28451716e-007, 6.64385099e-010, 2.77469886e-011, ...,\n",
       "         5.18523563e+005, 1.70749009e-005, 3.70093468e-011],\n",
       "        [1.98246577e-015, 1.30494816e-013, 5.30397737e-011, ...,\n",
       "         3.48856373e-008, 3.85388203e-007, 1.53843781e+005],\n",
       "        [9.30443557e-002, 2.84299916e-009, 1.78790072e-011, ...,\n",
       "         1.53815138e-013, 2.14569745e-019, 1.99921288e-007]],\n",
       "\n",
       "       [[2.38078944e-010, 2.06477678e-002, 6.83942489e-005, ...,\n",
       "         9.59189529e-011, 1.73406524e-018, 3.98805938e-017],\n",
       "        [2.30406187e-012, 9.94289958e-014, 2.40155974e-017, ...,\n",
       "         1.04257296e-024, 1.63189990e-021, 4.02031758e-013],\n",
       "        [2.53173739e-012, 6.42157925e-018, 4.69541211e-018, ...,\n",
       "         4.49339244e-011, 4.20892190e-021, 9.52094801e-017],\n",
       "        ...,\n",
       "        [5.32799245e-010, 9.73648321e-008, 2.39309301e-004, ...,\n",
       "         3.95084229e-009, 5.89390079e-012, 2.37922492e-011],\n",
       "        [4.07747514e-011, 5.73549828e-009, 5.62386135e-009, ...,\n",
       "         6.40413608e-013, 8.04008967e-010, 6.02999092e-010],\n",
       "        [1.69931325e-011, 4.16888482e-012, 4.97813238e-017, ...,\n",
       "         8.78271646e-003, 2.00904207e-013, 7.24945188e-012]]])"
      ]
     },
     "execution_count": 11,
     "metadata": {},
     "output_type": "execute_result"
    }
   ],
   "source": [
    "mfccs=np.empty((20, 44, 24), float)\n",
    "#mfccを入れるための空のarrayを作成\n",
    "print(type(mfccs))\n",
    "print(mfccs.shape)\n",
    "mfccs"
   ]
  },
  {
   "cell_type": "code",
   "execution_count": 12,
   "metadata": {},
   "outputs": [
    {
     "ename": "ValueError",
     "evalue": "all the input array dimensions except for the concatenation axis must match exactly",
     "output_type": "error",
     "traceback": [
      "\u001b[1;31m---------------------------------------------------------------------------\u001b[0m",
      "\u001b[1;31mValueError\u001b[0m                                Traceback (most recent call last)",
      "\u001b[1;32m<ipython-input-12-1730afc9128a>\u001b[0m in \u001b[0;36m<module>\u001b[1;34m\u001b[0m\n\u001b[0;32m      1\u001b[0m \u001b[1;32mfor\u001b[0m \u001b[0mi\u001b[0m \u001b[1;32min\u001b[0m \u001b[0mrange\u001b[0m\u001b[1;33m(\u001b[0m\u001b[1;36m24\u001b[0m\u001b[1;33m)\u001b[0m\u001b[1;33m:\u001b[0m\u001b[1;33m\u001b[0m\u001b[1;33m\u001b[0m\u001b[0m\n\u001b[0;32m      2\u001b[0m     \u001b[0mmy_mfcc\u001b[0m\u001b[1;33m=\u001b[0m\u001b[0mlibrosa\u001b[0m\u001b[1;33m.\u001b[0m\u001b[0mfeature\u001b[0m\u001b[1;33m.\u001b[0m\u001b[0mmfcc\u001b[0m\u001b[1;33m(\u001b[0m\u001b[0mrow_data\u001b[0m\u001b[1;33m[\u001b[0m\u001b[0mi\u001b[0m\u001b[1;33m]\u001b[0m\u001b[1;33m)\u001b[0m\u001b[1;33m\u001b[0m\u001b[1;33m\u001b[0m\u001b[0m\n\u001b[1;32m----> 3\u001b[1;33m     \u001b[0mmfccs\u001b[0m \u001b[1;33m=\u001b[0m \u001b[0mnp\u001b[0m\u001b[1;33m.\u001b[0m\u001b[0mappend\u001b[0m\u001b[1;33m(\u001b[0m\u001b[0mmfccs\u001b[0m\u001b[1;33m,\u001b[0m \u001b[0mnp\u001b[0m\u001b[1;33m.\u001b[0m\u001b[0marray\u001b[0m\u001b[1;33m(\u001b[0m\u001b[1;33m[\u001b[0m\u001b[0mmy_mfcc\u001b[0m\u001b[1;33m]\u001b[0m\u001b[1;33m)\u001b[0m\u001b[1;33m,\u001b[0m \u001b[0maxis\u001b[0m \u001b[1;33m=\u001b[0m \u001b[1;36m0\u001b[0m\u001b[1;33m)\u001b[0m\u001b[1;33m\u001b[0m\u001b[1;33m\u001b[0m\u001b[0m\n\u001b[0m\u001b[0;32m      4\u001b[0m     \u001b[0mprint\u001b[0m\u001b[1;33m(\u001b[0m\u001b[0mmy_mfcc\u001b[0m\u001b[1;33m.\u001b[0m\u001b[0mshape\u001b[0m\u001b[1;33m)\u001b[0m\u001b[1;33m\u001b[0m\u001b[1;33m\u001b[0m\u001b[0m\n\u001b[0;32m      5\u001b[0m \u001b[1;33m\u001b[0m\u001b[0m\n",
      "\u001b[1;32m~\\Anaconda3\\lib\\site-packages\\numpy\\lib\\function_base.py\u001b[0m in \u001b[0;36mappend\u001b[1;34m(arr, values, axis)\u001b[0m\n\u001b[0;32m   4692\u001b[0m         \u001b[0mvalues\u001b[0m \u001b[1;33m=\u001b[0m \u001b[0mravel\u001b[0m\u001b[1;33m(\u001b[0m\u001b[0mvalues\u001b[0m\u001b[1;33m)\u001b[0m\u001b[1;33m\u001b[0m\u001b[1;33m\u001b[0m\u001b[0m\n\u001b[0;32m   4693\u001b[0m         \u001b[0maxis\u001b[0m \u001b[1;33m=\u001b[0m \u001b[0marr\u001b[0m\u001b[1;33m.\u001b[0m\u001b[0mndim\u001b[0m\u001b[1;33m-\u001b[0m\u001b[1;36m1\u001b[0m\u001b[1;33m\u001b[0m\u001b[1;33m\u001b[0m\u001b[0m\n\u001b[1;32m-> 4694\u001b[1;33m     \u001b[1;32mreturn\u001b[0m \u001b[0mconcatenate\u001b[0m\u001b[1;33m(\u001b[0m\u001b[1;33m(\u001b[0m\u001b[0marr\u001b[0m\u001b[1;33m,\u001b[0m \u001b[0mvalues\u001b[0m\u001b[1;33m)\u001b[0m\u001b[1;33m,\u001b[0m \u001b[0maxis\u001b[0m\u001b[1;33m=\u001b[0m\u001b[0maxis\u001b[0m\u001b[1;33m)\u001b[0m\u001b[1;33m\u001b[0m\u001b[1;33m\u001b[0m\u001b[0m\n\u001b[0m\u001b[0;32m   4695\u001b[0m \u001b[1;33m\u001b[0m\u001b[0m\n\u001b[0;32m   4696\u001b[0m \u001b[1;33m\u001b[0m\u001b[0m\n",
      "\u001b[1;31mValueError\u001b[0m: all the input array dimensions except for the concatenation axis must match exactly"
     ]
    }
   ],
   "source": [
    "for i in range(24):\n",
    "    my_mfcc=librosa.feature.mfcc(row_data[i])\n",
    "    mfccs = np.append(mfccs, np.array([my_mfcc]), axis = 0)\n",
    "    print(my_mfcc.shape)\n",
    "    \n",
    "# #20個のmfccを入れる。二つ下のセルでなぜ２０個か説明します\n",
    "# mfcc = librosa.feature.mfcc(data[0])\n",
    "# print(type(mfcc))\n",
    "# mfcc.shape"
   ]
  },
  {
   "cell_type": "code",
   "execution_count": null,
   "metadata": {},
   "outputs": [],
   "source": [
    "type(data[0])\n",
    "#dataの一つ目の要素の型を確認（ndarray出ないといけないから)"
   ]
  },
  {
   "cell_type": "code",
   "execution_count": null,
   "metadata": {},
   "outputs": [],
   "source": [
    "for i in range(30):\n",
    "    print(i,type(data[i]))\n",
    "    #結局、全部の型を確認。２３個は大丈夫なので、きりよく20こにしました"
   ]
  },
  {
   "cell_type": "code",
   "execution_count": null,
   "metadata": {},
   "outputs": [],
   "source": [
    "data1=[None]*30\n",
    "f1=[None]*30"
   ]
  },
  {
   "cell_type": "code",
   "execution_count": null,
   "metadata": {},
   "outputs": [],
   "source": [
    "for i in range(8):\n",
    "    data1[i],f1[i]=librosa.load(r\"C:\\Users\\ttaki\\workshop-repository-e\\Voice\\data\\tsujita_out_a00{}.wav\".format(i+2),sr=44100)"
   ]
  },
  {
   "cell_type": "code",
   "execution_count": null,
   "metadata": {},
   "outputs": [],
   "source": [
    "for i in range(8,23):\n",
    "    data1[i],f1[i]=librosa.load(r\"C:\\Users\\ttaki\\workshop-repository-e\\Voice\\data\\tsujita_out_a0{}.wav\".format(i+2),sr=44100)"
   ]
  },
  {
   "cell_type": "code",
   "execution_count": null,
   "metadata": {},
   "outputs": [],
   "source": [
    "mfcc2=[None]*30"
   ]
  },
  {
   "cell_type": "code",
   "execution_count": null,
   "metadata": {},
   "outputs": [],
   "source": [
    "for i in range(30):\n",
    "    print(i,type(data1[i]))"
   ]
  },
  {
   "cell_type": "code",
   "execution_count": null,
   "metadata": {},
   "outputs": [],
   "source": [
    "for i in range(20):\n",
    "    mfcc2[i]=librosa.feature.mfcc(data1[i])\n",
    "    #ここまで木村さんの音声の時と同様に、辻田さんの方でもやってます"
   ]
  },
  {
   "cell_type": "code",
   "execution_count": null,
   "metadata": {},
   "outputs": [],
   "source": [
    "for i in range(20):\n",
    "    print('{},{}'.format(mfcc[i].shape,mfcc2[i].shape))\n",
    "    #念のため、両方のmfccの型を確認したところ違っている！？"
   ]
  },
  {
   "cell_type": "code",
   "execution_count": null,
   "metadata": {},
   "outputs": [],
   "source": [
    "mfcc2[0].shape"
   ]
  },
  {
   "cell_type": "code",
   "execution_count": null,
   "metadata": {},
   "outputs": [],
   "source": [
    "mfcc[0]"
   ]
  },
  {
   "cell_type": "code",
   "execution_count": null,
   "metadata": {},
   "outputs": [],
   "source": [
    "mfcc2[0]\n",
    "#確認したけどやっぱり違う\n",
    "#その後、辻田さんの指摘で修正されました\n",
    "#ここから先の見通しは、二つのmfcc群を20個ずつxにいれ、それに対応する正解ｙ（木村さん：０、辻田さん：１）みたいな感じで作ってSVCで学習する感じだと思います"
   ]
  },
  {
   "cell_type": "code",
   "execution_count": null,
   "metadata": {},
   "outputs": [],
   "source": []
  }
 ],
 "metadata": {
  "kernelspec": {
   "display_name": "Python 3",
   "language": "python",
   "name": "python3"
  },
  "language_info": {
   "codemirror_mode": {
    "name": "ipython",
    "version": 3
   },
   "file_extension": ".py",
   "mimetype": "text/x-python",
   "name": "python",
   "nbconvert_exporter": "python",
   "pygments_lexer": "ipython3",
   "version": "3.6.8"
  }
 },
 "nbformat": 4,
 "nbformat_minor": 2
}
